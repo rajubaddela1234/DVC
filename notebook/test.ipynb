{
 "cells": [
  {
   "cell_type": "code",
   "execution_count": null,
   "metadata": {},
   "outputs": [],
   "source": [
    "data={\"A\":[1,2,3,4,5],\"B\":[2,3,4,3,4],\"C\":[3,5,12,3,5]}\n",
    "import pandas as pd\n",
    "df=pd.DataFrame(data)\n",
    "df.to_csv(\"../data/myfile.csv\")"
   ]
  }
 ],
 "metadata": {
  "language_info": {
   "name": "python"
  },
  "orig_nbformat": 4
 },
 "nbformat": 4,
 "nbformat_minor": 2
}
